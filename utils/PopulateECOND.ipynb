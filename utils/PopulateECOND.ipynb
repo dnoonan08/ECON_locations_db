{
 "cells": [
  {
   "cell_type": "code",
   "execution_count": 1,
   "id": "9c060d52",
   "metadata": {},
   "outputs": [
    {
     "data": {
      "text/html": [
       "<style>.container { width:90% !important; }</style>"
      ],
      "text/plain": [
       "<IPython.core.display.HTML object>"
      ]
     },
     "metadata": {},
     "output_type": "display_data"
    }
   ],
   "source": [
    "import numpy as np\n",
    "import pandas as pd\n",
    "from IPython.display import display, HTML\n",
    "display(HTML(\"<style>.container { width:90% !important; }</style>\"));\n",
    "\n",
    "import sys\n",
    "sys.path.append('..')\n",
    "from LocationsDB import LocationsDatabase\n",
    "\n",
    "from datetime import datetime\n",
    "\n",
    "from glob import glob"
   ]
  },
  {
   "cell_type": "code",
   "execution_count": 2,
   "id": "8a05a0a0",
   "metadata": {},
   "outputs": [],
   "source": [
    "loc_db = LocationsDatabase('../database_files/ECON_Locations_DB.db')\n",
    "# loc_db = LocationsDatabase('../database_files/testing_database.db')"
   ]
  },
  {
   "cell_type": "code",
   "execution_count": 3,
   "id": "f03e4c91",
   "metadata": {},
   "outputs": [],
   "source": [
    "#### 2024/18 is may ECOND packaging (RECEIVED JUNE 4)\n",
    "#### 2024/29 is july packaging run (RECEIVED SEPTEMBER 1 ???)\n",
    "#### 2024/31 is august run (RECEIVED SEPTEMBER 17)\n",
    "data = []\n",
    "for tray in range(10006,10144):\n",
    "    if tray<=10011:\n",
    "        lot_,date_,timestamp_ = 'N61.H30.00','2024/18',datetime.strptime('2024-06-04','%Y-%m-%d')\n",
    "    elif tray<=10091:\n",
    "        lot_,date_,timestamp_ = 'N61.H52.00','2024/29',datetime.strptime('2024-08-15','%Y-%m-%d')\n",
    "    elif tray<=10141:\n",
    "        lot_,date_,timestamp_ = 'N61.H30.00','2024/31',datetime.strptime('2024-09-17','%Y-%m-%d')\n",
    "    elif tray<=10143:\n",
    "        lot_,date_,timestamp_ = 'N61.H52.00','2024/29',datetime.strptime('2024-08-15','%Y-%m-%d')\n",
    "    else:\n",
    "        print('ISSUE HERE')\n",
    "    N = 90\n",
    "    if tray==10112:\n",
    "        N = 50\n",
    "    if tray==10121:\n",
    "        continue\n",
    "    if tray==10142:\n",
    "        N=25\n",
    "    for chip in range(1,N+1):\n",
    "        chip_id = tray*100 + chip\n",
    "        data.append([chip_id,tray,chip,lot_,date_,timestamp_])"
   ]
  },
  {
   "cell_type": "code",
   "execution_count": 4,
   "id": "ab783140",
   "metadata": {},
   "outputs": [],
   "source": [
    "for d in data:\n",
    "    chip_id,tray,pos,pkg_batch,pkg_date,timestamp = d\n",
    "    loc_db.checkin_chip(chip_id,'ECOND',tray,pos,'WH14',pkg_date,pkg_batch,'',str(timestamp))\n",
    "loc_db.conn.commit()    "
   ]
  },
  {
   "cell_type": "code",
   "execution_count": 5,
   "id": "886ea22d",
   "metadata": {
    "scrolled": true
   },
   "outputs": [
    {
     "data": {
      "text/plain": [
       "(12225, 9)"
      ]
     },
     "execution_count": 5,
     "metadata": {},
     "output_type": "execute_result"
    }
   ],
   "source": [
    "loc_db.loadLocationsDatabase().shape"
   ]
  },
  {
   "cell_type": "code",
   "execution_count": 6,
   "id": "b4b8b04e",
   "metadata": {},
   "outputs": [
    {
     "data": {
      "text/plain": [
       "(12225, 7)"
      ]
     },
     "execution_count": 6,
     "metadata": {},
     "output_type": "execute_result"
    }
   ],
   "source": [
    "loc_db.loadStatusDatabase().shape"
   ]
  },
  {
   "cell_type": "code",
   "execution_count": null,
   "id": "69cff9c6",
   "metadata": {},
   "outputs": [],
   "source": []
  },
  {
   "cell_type": "code",
   "execution_count": 7,
   "id": "233a694a",
   "metadata": {},
   "outputs": [],
   "source": [
    "testing_df = pd.read_csv('../testingCSV/econd_chip_test_results_2025-04-24_09-15-22.csv')\n",
    "\n",
    "\n",
    "c = list(testing_df.columns)\n",
    "c[0] = 'chip_id'\n",
    "testing_df.columns = c\n",
    "\n",
    "testing_df = testing_df[['chip_id','Timestamp']]\n",
    "\n",
    "testing_df.chip_id = (testing_df.chip_id%1000000)+1000000\n",
    "testing_df.Timestamp = pd.to_datetime(testing_df.Timestamp)\n",
    "testing_df.sort_values('Timestamp',inplace=True)\n",
    "\n",
    "testing_df.reset_index(inplace=True,drop=True)\n",
    "\n",
    "testing_df.dropna(inplace=True)\n"
   ]
  },
  {
   "cell_type": "code",
   "execution_count": 8,
   "id": "2b25741a",
   "metadata": {},
   "outputs": [],
   "source": [
    "d = loc_db.getCurrentLocations()\n",
    "d.set_index('chip_id',inplace=True)\n",
    "for x in testing_df.values:\n",
    "    chip_id,time = x\n",
    "    _tray,_pos = d.loc[chip_id][['current_tray','current_position']].values.flatten()\n",
    "    loc_db.setTestedStatus(chip_id,_tray,_pos,'',str(time))\n",
    "loc_db.conn.commit()"
   ]
  },
  {
   "cell_type": "code",
   "execution_count": 9,
   "id": "fade73f3",
   "metadata": {},
   "outputs": [
    {
     "data": {
      "text/plain": [
       "(27011, 9)"
      ]
     },
     "execution_count": 9,
     "metadata": {},
     "output_type": "execute_result"
    }
   ],
   "source": [
    "loc_db.loadLocationsDatabase().shape"
   ]
  },
  {
   "cell_type": "code",
   "execution_count": 10,
   "id": "064132d1",
   "metadata": {},
   "outputs": [
    {
     "data": {
      "text/plain": [
       "(12225, 7)"
      ]
     },
     "execution_count": 10,
     "metadata": {},
     "output_type": "execute_result"
    }
   ],
   "source": [
    "loc_db.loadStatusDatabase().shape"
   ]
  },
  {
   "cell_type": "code",
   "execution_count": null,
   "id": "1e992b75",
   "metadata": {},
   "outputs": [],
   "source": []
  },
  {
   "cell_type": "code",
   "execution_count": 11,
   "id": "e242b68c",
   "metadata": {},
   "outputs": [],
   "source": [
    "d_ = []\n",
    "for f in glob('../sorting_logs/ECOND_*'):\n",
    "    d = pd.read_csv(f,header=None)\n",
    "    d.columns = ['start_tray','start_pos','end_tray','end_pos']\n",
    "    d['timestamp'] = datetime.strptime(f.split('_')[2],'%Y%m%d')\n",
    "    if 'Nadja' in f:\n",
    "        d['shippingLocation'] = 'UMN'\n",
    "    if 'Paul' in f:\n",
    "        d['shippingLocation'] = 'Baylor-Partial'### CMs get listed as Baylor for final location\n",
    "    \n",
    "    d_.append(d)\n",
    "sorting_df = pd.concat(d_)\n",
    "sorting_df['start_tray_int'] = sorting_df.start_tray.str[-5:].astype(int)\n",
    "\n",
    "### CORRECT THE TRAY NUMBERS TO PUT THEM INTO THE APPROPRIATE SPOT IN THE TRAY SEQUENCE\n",
    "sorting_df['end_tray_corrected'] = sorting_df['end_tray'].str.replace('10803','18009').str.replace('10804','18010').str.replace('10805','18011').str.replace('10806','18012')\n",
    "sorting_df['end_tray_int'] = sorting_df.end_tray_corrected.str[-5:].astype(int)\n",
    "\n",
    "sorting_df['chip_id'] = sorting_df.start_tray_int*100 + sorting_df.start_pos\n",
    "\n",
    "sorting_df.reset_index(drop=True,inplace=True)\n",
    "\n",
    "\n",
    "for idx in sorting_df.index:\n",
    "    s = sorting_df.loc[idx]\n",
    "    chip_id = s.chip_id\n",
    "    if not 'TESTED' in loc_db.getChip(chip_id).entry_type.values:\n",
    "        print(f'ISSUE WITH {chip_id}')\n",
    "    else:\n",
    "        loc_db.sortChip(int(chip_id),int(s.start_tray_int),int(s.start_pos),int(s.end_tray_int),int(s.end_pos),'',str(s.timestamp))\n",
    "        loc_db.setChipGrade(int(chip_id),'PRESERIES','',str(s.timestamp))\n",
    "loc_db.conn.commit()"
   ]
  },
  {
   "cell_type": "code",
   "execution_count": 12,
   "id": "b7f50f07",
   "metadata": {},
   "outputs": [],
   "source": [
    "sorting_df2 = pd.read_csv('../sorting_logs/ECOND-Minnesota-3-Dec-24.csv',header=1)\n",
    "sorting_df2.chip_number = sorting_df2.chip_number+1000000\n",
    "sorting_df2['start_tray'] = (sorting_df2.chip_number/100).astype(int)\n",
    "sorting_df2['start_pos'] = sorting_df2.chip_number%100\n",
    "sorting_df2['new_position'] = sorting_df2.new_tray_position%100\n",
    "sorting_df2.reset_index(drop=True,inplace=True)\n",
    "\n",
    "for idx in sorting_df2.index:\n",
    "    s = sorting_df2.loc[idx]\n",
    "    chip_id = s.chip_number\n",
    "    if not 'TESTED' in loc_db.getChip(chip_id).entry_type.values:\n",
    "        print(f'ISSUE WITH {chip_id}')\n",
    "    else:\n",
    "        loc_db.sortChip(int(chip_id),int(s.start_tray),int(s.start_pos),int(s.new_tray),int(s.new_position),'',str(datetime.strptime('2024-12-03','%Y-%m-%d')))\n",
    "        loc_db.setChipGrade(int(chip_id),'PRESERIES','',str(datetime.strptime('2024-12-03','%Y-%m-%d')))\n",
    "loc_db.conn.commit()"
   ]
  },
  {
   "cell_type": "code",
   "execution_count": 13,
   "id": "5f960682",
   "metadata": {},
   "outputs": [
    {
     "data": {
      "text/plain": [
       "(27384, 9)"
      ]
     },
     "execution_count": 13,
     "metadata": {},
     "output_type": "execute_result"
    }
   ],
   "source": [
    "loc_db.loadLocationsDatabase().shape"
   ]
  },
  {
   "cell_type": "code",
   "execution_count": 14,
   "id": "8f16dfc6",
   "metadata": {},
   "outputs": [
    {
     "data": {
      "text/plain": [
       "(12225, 9)"
      ]
     },
     "execution_count": 14,
     "metadata": {},
     "output_type": "execute_result"
    }
   ],
   "source": [
    "loc_db.getCurrentLocations().shape"
   ]
  },
  {
   "cell_type": "code",
   "execution_count": 15,
   "id": "b1784a1c",
   "metadata": {
    "scrolled": true
   },
   "outputs": [
    {
     "data": {
      "text/html": [
       "<div>\n",
       "<style scoped>\n",
       "    .dataframe tbody tr th:only-of-type {\n",
       "        vertical-align: middle;\n",
       "    }\n",
       "\n",
       "    .dataframe tbody tr th {\n",
       "        vertical-align: top;\n",
       "    }\n",
       "\n",
       "    .dataframe thead th {\n",
       "        text-align: right;\n",
       "    }\n",
       "</style>\n",
       "<table border=\"1\" class=\"dataframe\">\n",
       "  <thead>\n",
       "    <tr style=\"text-align: right;\">\n",
       "      <th></th>\n",
       "      <th>chip_id</th>\n",
       "      <th>entry_type</th>\n",
       "      <th>initial_tray</th>\n",
       "      <th>initial_position</th>\n",
       "      <th>current_tray</th>\n",
       "      <th>current_position</th>\n",
       "      <th>location</th>\n",
       "      <th>comments</th>\n",
       "      <th>time</th>\n",
       "    </tr>\n",
       "  </thead>\n",
       "  <tbody>\n",
       "    <tr>\n",
       "      <th>27284</th>\n",
       "      <td>1001412</td>\n",
       "      <td>SORTED</td>\n",
       "      <td>10014</td>\n",
       "      <td>12</td>\n",
       "      <td>18007</td>\n",
       "      <td>1</td>\n",
       "      <td>WH14</td>\n",
       "      <td></td>\n",
       "      <td>2024-12-03</td>\n",
       "    </tr>\n",
       "    <tr>\n",
       "      <th>27285</th>\n",
       "      <td>1001420</td>\n",
       "      <td>SORTED</td>\n",
       "      <td>10014</td>\n",
       "      <td>20</td>\n",
       "      <td>18007</td>\n",
       "      <td>2</td>\n",
       "      <td>WH14</td>\n",
       "      <td></td>\n",
       "      <td>2024-12-03</td>\n",
       "    </tr>\n",
       "    <tr>\n",
       "      <th>27286</th>\n",
       "      <td>1001421</td>\n",
       "      <td>SORTED</td>\n",
       "      <td>10014</td>\n",
       "      <td>21</td>\n",
       "      <td>18007</td>\n",
       "      <td>3</td>\n",
       "      <td>WH14</td>\n",
       "      <td></td>\n",
       "      <td>2024-12-03</td>\n",
       "    </tr>\n",
       "    <tr>\n",
       "      <th>27287</th>\n",
       "      <td>1001450</td>\n",
       "      <td>SORTED</td>\n",
       "      <td>10014</td>\n",
       "      <td>50</td>\n",
       "      <td>18007</td>\n",
       "      <td>4</td>\n",
       "      <td>WH14</td>\n",
       "      <td></td>\n",
       "      <td>2024-12-03</td>\n",
       "    </tr>\n",
       "    <tr>\n",
       "      <th>27288</th>\n",
       "      <td>1001454</td>\n",
       "      <td>SORTED</td>\n",
       "      <td>10014</td>\n",
       "      <td>54</td>\n",
       "      <td>18007</td>\n",
       "      <td>5</td>\n",
       "      <td>WH14</td>\n",
       "      <td></td>\n",
       "      <td>2024-12-03</td>\n",
       "    </tr>\n",
       "    <tr>\n",
       "      <th>...</th>\n",
       "      <td>...</td>\n",
       "      <td>...</td>\n",
       "      <td>...</td>\n",
       "      <td>...</td>\n",
       "      <td>...</td>\n",
       "      <td>...</td>\n",
       "      <td>...</td>\n",
       "      <td>...</td>\n",
       "      <td>...</td>\n",
       "    </tr>\n",
       "    <tr>\n",
       "      <th>27369</th>\n",
       "      <td>1001827</td>\n",
       "      <td>SORTED</td>\n",
       "      <td>10018</td>\n",
       "      <td>27</td>\n",
       "      <td>18007</td>\n",
       "      <td>86</td>\n",
       "      <td>WH14</td>\n",
       "      <td></td>\n",
       "      <td>2024-12-03</td>\n",
       "    </tr>\n",
       "    <tr>\n",
       "      <th>27370</th>\n",
       "      <td>1001828</td>\n",
       "      <td>SORTED</td>\n",
       "      <td>10018</td>\n",
       "      <td>28</td>\n",
       "      <td>18007</td>\n",
       "      <td>87</td>\n",
       "      <td>WH14</td>\n",
       "      <td></td>\n",
       "      <td>2024-12-03</td>\n",
       "    </tr>\n",
       "    <tr>\n",
       "      <th>27371</th>\n",
       "      <td>1001830</td>\n",
       "      <td>SORTED</td>\n",
       "      <td>10018</td>\n",
       "      <td>30</td>\n",
       "      <td>18007</td>\n",
       "      <td>88</td>\n",
       "      <td>WH14</td>\n",
       "      <td></td>\n",
       "      <td>2024-12-03</td>\n",
       "    </tr>\n",
       "    <tr>\n",
       "      <th>27372</th>\n",
       "      <td>1001831</td>\n",
       "      <td>SORTED</td>\n",
       "      <td>10018</td>\n",
       "      <td>31</td>\n",
       "      <td>18007</td>\n",
       "      <td>89</td>\n",
       "      <td>WH14</td>\n",
       "      <td></td>\n",
       "      <td>2024-12-03</td>\n",
       "    </tr>\n",
       "    <tr>\n",
       "      <th>27373</th>\n",
       "      <td>1001832</td>\n",
       "      <td>SORTED</td>\n",
       "      <td>10018</td>\n",
       "      <td>32</td>\n",
       "      <td>18007</td>\n",
       "      <td>90</td>\n",
       "      <td>WH14</td>\n",
       "      <td></td>\n",
       "      <td>2024-12-03</td>\n",
       "    </tr>\n",
       "  </tbody>\n",
       "</table>\n",
       "<p>90 rows × 9 columns</p>\n",
       "</div>"
      ],
      "text/plain": [
       "       chip_id entry_type  initial_tray  initial_position  current_tray  \\\n",
       "27284  1001412     SORTED         10014                12         18007   \n",
       "27285  1001420     SORTED         10014                20         18007   \n",
       "27286  1001421     SORTED         10014                21         18007   \n",
       "27287  1001450     SORTED         10014                50         18007   \n",
       "27288  1001454     SORTED         10014                54         18007   \n",
       "...        ...        ...           ...               ...           ...   \n",
       "27369  1001827     SORTED         10018                27         18007   \n",
       "27370  1001828     SORTED         10018                28         18007   \n",
       "27371  1001830     SORTED         10018                30         18007   \n",
       "27372  1001831     SORTED         10018                31         18007   \n",
       "27373  1001832     SORTED         10018                32         18007   \n",
       "\n",
       "       current_position location comments       time  \n",
       "27284                 1     WH14          2024-12-03  \n",
       "27285                 2     WH14          2024-12-03  \n",
       "27286                 3     WH14          2024-12-03  \n",
       "27287                 4     WH14          2024-12-03  \n",
       "27288                 5     WH14          2024-12-03  \n",
       "...                 ...      ...      ...        ...  \n",
       "27369                86     WH14          2024-12-03  \n",
       "27370                87     WH14          2024-12-03  \n",
       "27371                88     WH14          2024-12-03  \n",
       "27372                89     WH14          2024-12-03  \n",
       "27373                90     WH14          2024-12-03  \n",
       "\n",
       "[90 rows x 9 columns]"
      ]
     },
     "execution_count": 15,
     "metadata": {},
     "output_type": "execute_result"
    }
   ],
   "source": [
    "loc_db.getChipsInTray(18007)"
   ]
  },
  {
   "cell_type": "code",
   "execution_count": 16,
   "id": "41ad9a2d",
   "metadata": {},
   "outputs": [
    {
     "data": {
      "text/html": [
       "<div>\n",
       "<style scoped>\n",
       "    .dataframe tbody tr th:only-of-type {\n",
       "        vertical-align: middle;\n",
       "    }\n",
       "\n",
       "    .dataframe tbody tr th {\n",
       "        vertical-align: top;\n",
       "    }\n",
       "\n",
       "    .dataframe thead th {\n",
       "        text-align: right;\n",
       "    }\n",
       "</style>\n",
       "<table border=\"1\" class=\"dataframe\">\n",
       "  <thead>\n",
       "    <tr style=\"text-align: right;\">\n",
       "      <th></th>\n",
       "      <th>chip_id</th>\n",
       "      <th>entry_type</th>\n",
       "      <th>initial_tray</th>\n",
       "      <th>initial_position</th>\n",
       "      <th>current_tray</th>\n",
       "      <th>current_position</th>\n",
       "      <th>location</th>\n",
       "      <th>comments</th>\n",
       "      <th>time</th>\n",
       "    </tr>\n",
       "  </thead>\n",
       "  <tbody>\n",
       "    <tr>\n",
       "      <th>12440</th>\n",
       "      <td>1001401</td>\n",
       "      <td>TESTED</td>\n",
       "      <td>10014</td>\n",
       "      <td>1</td>\n",
       "      <td>10014</td>\n",
       "      <td>1</td>\n",
       "      <td>WH14</td>\n",
       "      <td></td>\n",
       "      <td>2024-11-01 09:07:47</td>\n",
       "    </tr>\n",
       "    <tr>\n",
       "      <th>12442</th>\n",
       "      <td>1001402</td>\n",
       "      <td>TESTED</td>\n",
       "      <td>10014</td>\n",
       "      <td>2</td>\n",
       "      <td>10014</td>\n",
       "      <td>2</td>\n",
       "      <td>WH14</td>\n",
       "      <td></td>\n",
       "      <td>2024-11-01 09:13:41</td>\n",
       "    </tr>\n",
       "    <tr>\n",
       "      <th>12445</th>\n",
       "      <td>1001403</td>\n",
       "      <td>TESTED</td>\n",
       "      <td>10014</td>\n",
       "      <td>3</td>\n",
       "      <td>10014</td>\n",
       "      <td>3</td>\n",
       "      <td>WH14</td>\n",
       "      <td></td>\n",
       "      <td>2024-11-01 09:19:54</td>\n",
       "    </tr>\n",
       "    <tr>\n",
       "      <th>12447</th>\n",
       "      <td>1001404</td>\n",
       "      <td>TESTED</td>\n",
       "      <td>10014</td>\n",
       "      <td>4</td>\n",
       "      <td>10014</td>\n",
       "      <td>4</td>\n",
       "      <td>WH14</td>\n",
       "      <td></td>\n",
       "      <td>2024-11-01 09:25:56</td>\n",
       "    </tr>\n",
       "    <tr>\n",
       "      <th>12451</th>\n",
       "      <td>1001405</td>\n",
       "      <td>TESTED</td>\n",
       "      <td>10014</td>\n",
       "      <td>5</td>\n",
       "      <td>10014</td>\n",
       "      <td>5</td>\n",
       "      <td>WH14</td>\n",
       "      <td></td>\n",
       "      <td>2024-11-01 09:32:05</td>\n",
       "    </tr>\n",
       "    <tr>\n",
       "      <th>...</th>\n",
       "      <td>...</td>\n",
       "      <td>...</td>\n",
       "      <td>...</td>\n",
       "      <td>...</td>\n",
       "      <td>...</td>\n",
       "      <td>...</td>\n",
       "      <td>...</td>\n",
       "      <td>...</td>\n",
       "      <td>...</td>\n",
       "    </tr>\n",
       "    <tr>\n",
       "      <th>12422</th>\n",
       "      <td>1001485</td>\n",
       "      <td>TESTED</td>\n",
       "      <td>10014</td>\n",
       "      <td>85</td>\n",
       "      <td>10014</td>\n",
       "      <td>85</td>\n",
       "      <td>WH14</td>\n",
       "      <td></td>\n",
       "      <td>2024-11-01 07:17:56</td>\n",
       "    </tr>\n",
       "    <tr>\n",
       "      <th>12423</th>\n",
       "      <td>1001486</td>\n",
       "      <td>TESTED</td>\n",
       "      <td>10014</td>\n",
       "      <td>86</td>\n",
       "      <td>10014</td>\n",
       "      <td>86</td>\n",
       "      <td>WH14</td>\n",
       "      <td></td>\n",
       "      <td>2024-11-01 07:24:01</td>\n",
       "    </tr>\n",
       "    <tr>\n",
       "      <th>12424</th>\n",
       "      <td>1001487</td>\n",
       "      <td>TESTED</td>\n",
       "      <td>10014</td>\n",
       "      <td>87</td>\n",
       "      <td>10014</td>\n",
       "      <td>87</td>\n",
       "      <td>WH14</td>\n",
       "      <td></td>\n",
       "      <td>2024-11-01 07:29:59</td>\n",
       "    </tr>\n",
       "    <tr>\n",
       "      <th>12425</th>\n",
       "      <td>1001488</td>\n",
       "      <td>TESTED</td>\n",
       "      <td>10014</td>\n",
       "      <td>88</td>\n",
       "      <td>10014</td>\n",
       "      <td>88</td>\n",
       "      <td>WH14</td>\n",
       "      <td></td>\n",
       "      <td>2024-11-01 07:36:02</td>\n",
       "    </tr>\n",
       "    <tr>\n",
       "      <th>12427</th>\n",
       "      <td>1001490</td>\n",
       "      <td>TESTED</td>\n",
       "      <td>10014</td>\n",
       "      <td>90</td>\n",
       "      <td>10014</td>\n",
       "      <td>90</td>\n",
       "      <td>WH14</td>\n",
       "      <td></td>\n",
       "      <td>2024-11-01 07:48:03</td>\n",
       "    </tr>\n",
       "  </tbody>\n",
       "</table>\n",
       "<p>80 rows × 9 columns</p>\n",
       "</div>"
      ],
      "text/plain": [
       "       chip_id entry_type  initial_tray  initial_position  current_tray  \\\n",
       "12440  1001401     TESTED         10014                 1         10014   \n",
       "12442  1001402     TESTED         10014                 2         10014   \n",
       "12445  1001403     TESTED         10014                 3         10014   \n",
       "12447  1001404     TESTED         10014                 4         10014   \n",
       "12451  1001405     TESTED         10014                 5         10014   \n",
       "...        ...        ...           ...               ...           ...   \n",
       "12422  1001485     TESTED         10014                85         10014   \n",
       "12423  1001486     TESTED         10014                86         10014   \n",
       "12424  1001487     TESTED         10014                87         10014   \n",
       "12425  1001488     TESTED         10014                88         10014   \n",
       "12427  1001490     TESTED         10014                90         10014   \n",
       "\n",
       "       current_position location comments                time  \n",
       "12440                 1     WH14          2024-11-01 09:07:47  \n",
       "12442                 2     WH14          2024-11-01 09:13:41  \n",
       "12445                 3     WH14          2024-11-01 09:19:54  \n",
       "12447                 4     WH14          2024-11-01 09:25:56  \n",
       "12451                 5     WH14          2024-11-01 09:32:05  \n",
       "...                 ...      ...      ...                 ...  \n",
       "12422                85     WH14          2024-11-01 07:17:56  \n",
       "12423                86     WH14          2024-11-01 07:24:01  \n",
       "12424                87     WH14          2024-11-01 07:29:59  \n",
       "12425                88     WH14          2024-11-01 07:36:02  \n",
       "12427                90     WH14          2024-11-01 07:48:03  \n",
       "\n",
       "[80 rows x 9 columns]"
      ]
     },
     "execution_count": 16,
     "metadata": {},
     "output_type": "execute_result"
    }
   ],
   "source": [
    "loc_db.getChipsInTray(10014)"
   ]
  },
  {
   "cell_type": "code",
   "execution_count": null,
   "id": "053fed63",
   "metadata": {},
   "outputs": [],
   "source": []
  }
 ],
 "metadata": {
  "kernelspec": {
   "display_name": "Python 3 (ipykernel)",
   "language": "python",
   "name": "python3"
  },
  "language_info": {
   "codemirror_mode": {
    "name": "ipython",
    "version": 3
   },
   "file_extension": ".py",
   "mimetype": "text/x-python",
   "name": "python",
   "nbconvert_exporter": "python",
   "pygments_lexer": "ipython3",
   "version": "3.9.6"
  }
 },
 "nbformat": 4,
 "nbformat_minor": 5
}
